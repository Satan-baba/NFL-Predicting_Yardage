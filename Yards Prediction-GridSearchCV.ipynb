{
 "cells": [
  {
   "cell_type": "markdown",
   "metadata": {},
   "source": [
    "# Imports"
   ]
  },
  {
   "cell_type": "code",
   "execution_count": 42,
   "metadata": {},
   "outputs": [],
   "source": [
    "import numpy as np\n",
    "import pandas as pd\n",
    "from bs4 import BeautifulSoup\n",
    "import bs4\n",
    "import requests\n",
    "import re\n",
    "from string import punctuation\n",
    "from string import punctuation\n",
    "import datetime\n",
    "from sklearn.preprocessing import StandardScaler\n",
    "from sklearn import preprocessing\n",
    "import seaborn as sns\n",
    "import matplotlib.pyplot as plt\n",
    "import keras\n",
    "from keras.callbacks import ReduceLROnPlateau, ModelCheckpoint, EarlyStopping\n",
    "from keras.utils import plot_model\n",
    "import keras.backend as K\n",
    "import tensorflow as tf\n",
    "from sklearn.model_selection import GridSearchCV\n",
    "from sklearn.model_selection import KFold\n",
    "import matplotlib.pyplot as plt\n",
    "import seaborn as sns"
   ]
  },
  {
   "cell_type": "code",
   "execution_count": 39,
   "metadata": {},
   "outputs": [
    {
     "name": "stdout",
     "output_type": "stream",
     "text": [
      "Requirement already satisfied: tensorflow-gpu in c:\\users\\piyus\\anaconda3\\lib\\site-packages (2.0.0)\n",
      "Requirement already satisfied: gast==0.2.2 in c:\\users\\piyus\\anaconda3\\lib\\site-packages (from tensorflow-gpu) (0.2.2)\n",
      "Requirement already satisfied: protobuf>=3.6.1 in c:\\users\\piyus\\anaconda3\\lib\\site-packages (from tensorflow-gpu) (3.10.0)\n",
      "Requirement already satisfied: grpcio>=1.8.6 in c:\\users\\piyus\\anaconda3\\lib\\site-packages (from tensorflow-gpu) (1.24.1)\n",
      "Requirement already satisfied: keras-applications>=1.0.8 in c:\\users\\piyus\\anaconda3\\lib\\site-packages (from tensorflow-gpu) (1.0.8)\n",
      "Requirement already satisfied: tensorflow-estimator<2.1.0,>=2.0.0 in c:\\users\\piyus\\anaconda3\\lib\\site-packages (from tensorflow-gpu) (2.0.0)\n",
      "Requirement already satisfied: wrapt>=1.11.1 in c:\\users\\piyus\\anaconda3\\lib\\site-packages (from tensorflow-gpu) (1.11.2)\n",
      "Requirement already satisfied: wheel>=0.26 in c:\\users\\piyus\\anaconda3\\lib\\site-packages (from tensorflow-gpu) (0.33.4)\n",
      "Requirement already satisfied: termcolor>=1.1.0 in c:\\users\\piyus\\anaconda3\\lib\\site-packages (from tensorflow-gpu) (1.1.0)\n",
      "Requirement already satisfied: keras-preprocessing>=1.0.5 in c:\\users\\piyus\\anaconda3\\lib\\site-packages (from tensorflow-gpu) (1.1.0)\n",
      "Requirement already satisfied: opt-einsum>=2.3.2 in c:\\users\\piyus\\anaconda3\\lib\\site-packages (from tensorflow-gpu) (3.1.0)\n",
      "Requirement already satisfied: astor>=0.6.0 in c:\\users\\piyus\\anaconda3\\lib\\site-packages (from tensorflow-gpu) (0.8.0)\n",
      "Requirement already satisfied: absl-py>=0.7.0 in c:\\users\\piyus\\anaconda3\\lib\\site-packages (from tensorflow-gpu) (0.8.1)\n",
      "Requirement already satisfied: numpy<2.0,>=1.16.0 in c:\\users\\piyus\\anaconda3\\lib\\site-packages (from tensorflow-gpu) (1.16.4)\n",
      "Requirement already satisfied: six>=1.10.0 in c:\\users\\piyus\\anaconda3\\lib\\site-packages (from tensorflow-gpu) (1.12.0)\n",
      "Requirement already satisfied: tensorboard<2.1.0,>=2.0.0 in c:\\users\\piyus\\anaconda3\\lib\\site-packages (from tensorflow-gpu) (2.0.0)\n",
      "Requirement already satisfied: google-pasta>=0.1.6 in c:\\users\\piyus\\anaconda3\\lib\\site-packages (from tensorflow-gpu) (0.1.7)\n",
      "Requirement already satisfied: setuptools in c:\\users\\piyus\\anaconda3\\lib\\site-packages (from protobuf>=3.6.1->tensorflow-gpu) (41.0.1)\n",
      "Requirement already satisfied: h5py in c:\\users\\piyus\\anaconda3\\lib\\site-packages (from keras-applications>=1.0.8->tensorflow-gpu) (2.9.0)\n",
      "Requirement already satisfied: werkzeug>=0.11.15 in c:\\users\\piyus\\anaconda3\\lib\\site-packages (from tensorboard<2.1.0,>=2.0.0->tensorflow-gpu) (0.15.4)\n",
      "Requirement already satisfied: markdown>=2.6.8 in c:\\users\\piyus\\anaconda3\\lib\\site-packages (from tensorboard<2.1.0,>=2.0.0->tensorflow-gpu) (3.1.1)\n"
     ]
    }
   ],
   "source": [
    "!pip install tensorflow-gpu"
   ]
  },
  {
   "cell_type": "markdown",
   "metadata": {},
   "source": [
    "# Dataset"
   ]
  },
  {
   "cell_type": "markdown",
   "metadata": {},
   "source": [
    "Save the file in the same directory as train.csv before running the blocks below"
   ]
  },
  {
   "cell_type": "markdown",
   "metadata": {},
   "source": [
    "https://www.kaggle.com/c/nfl-big-data-bowl-2020/download/rnAUsHGj9lT4lWIyUuEY%2Fversions%2FCEsJVtBEv0Z8nlYsmcDZ%2Ffiles%2Ftrain.csv"
   ]
  },
  {
   "cell_type": "markdown",
   "metadata": {},
   "source": [
    "# Install Keras & Tensorflow if Needed"
   ]
  },
  {
   "cell_type": "code",
   "execution_count": 2,
   "metadata": {},
   "outputs": [],
   "source": [
    "# !pip install keras\n",
    "# !pip install tensorflow"
   ]
  },
  {
   "cell_type": "markdown",
   "metadata": {},
   "source": [
    "# Data Preprocessing"
   ]
  },
  {
   "cell_type": "code",
   "execution_count": 43,
   "metadata": {},
   "outputs": [
    {
     "name": "stderr",
     "output_type": "stream",
     "text": [
      "C:\\Users\\piyus\\Anaconda3\\lib\\site-packages\\IPython\\core\\interactiveshell.py:3057: DtypeWarning: Columns (47) have mixed types. Specify dtype option on import or set low_memory=False.\n",
      "  interactivity=interactivity, compiler=compiler, result=result)\n",
      "C:\\Users\\piyus\\Anaconda3\\lib\\site-packages\\ipykernel_launcher.py:86: SettingWithCopyWarning: \n",
      "A value is trying to be set on a copy of a slice from a DataFrame\n",
      "\n",
      "See the caveats in the documentation: http://pandas.pydata.org/pandas-docs/stable/indexing.html#indexing-view-versus-copy\n",
      "C:\\Users\\piyus\\Anaconda3\\lib\\site-packages\\ipykernel_launcher.py:89: SettingWithCopyWarning: \n",
      "A value is trying to be set on a copy of a slice from a DataFrame\n",
      "\n",
      "See the caveats in the documentation: http://pandas.pydata.org/pandas-docs/stable/indexing.html#indexing-view-versus-copy\n"
     ]
    }
   ],
   "source": [
    "train = pd.read_csv(\"train.csv\")\n",
    "\n",
    "#Fixing Stadium Type\n",
    "def fix_stadiumtype(x):\n",
    "    \n",
    "    if re.search('retr',str(x).lower()):\n",
    "        return 'indoor'\n",
    "    \n",
    "    elif re.search('roof',str(x).lower()):\n",
    "        return 'indoor'\n",
    "\n",
    "    elif re.search('out',str(x).lower()):\n",
    "        return 'outdoor'\n",
    "    \n",
    "    elif re.search('close',str(x).lower()):\n",
    "        return 'indoor'\n",
    "    \n",
    "    elif re.search('indoor',str(x).lower()):\n",
    "        return 'indoor'\n",
    "    \n",
    "    elif re.search('open',str(x).lower()):\n",
    "        return 'outdoor'\n",
    "    \n",
    "    elif re.search('dome',str(x).lower()):\n",
    "        return 'indoor'\n",
    "    \n",
    "    elif re.search('bowl',str(x).lower()):\n",
    "        return 'outdoor'\n",
    "    \n",
    "    elif re.search('field',str(x).lower()):\n",
    "        return 'outdoor'\n",
    "    \n",
    "    elif re.search('ou.?door',str(x).lower()):\n",
    "        return 'outdoor'\n",
    "    \n",
    "    else:\n",
    "        return 'outdoor'\n",
    "    \n",
    "train['StadiumType'] = train['StadiumType'].apply(fix_stadiumtype)\n",
    "    \n",
    "\n",
    "# Player Height\n",
    "\n",
    "def fix_height(x):\n",
    "    a = str(x).split('-')\n",
    "    return float(a[0]) *12 + float(a[1])\n",
    "\n",
    "train['PlayerHeight'] = train['PlayerHeight'].apply(fix_height)\n",
    "\n",
    "#Calculating the difference between Snap and Handoff Time\n",
    "train['TimeHandoff'] = train['TimeHandoff'].apply(lambda x: datetime.datetime.strptime(x, \"%Y-%m-%dT%H:%M:%S.%fZ\"))\n",
    "train['TimeSnap'] = train['TimeSnap'].apply(lambda x: datetime.datetime.strptime(x, \"%Y-%m-%dT%H:%M:%S.%fZ\"))\n",
    "\n",
    "train['TimeDelta'] = train.apply(lambda row: (row['TimeHandoff'] - row['TimeSnap']).total_seconds(), axis=1)\n",
    "\n",
    "#Player Age Calculation\n",
    "train['PlayerBirthDate'] = train['PlayerBirthDate'].apply(lambda x: datetime.datetime.strptime(x, \"%m/%d/%Y\"))\n",
    "seconds_in_year = 60*60*24*365.25\n",
    "train['PlayerAge'] = train.apply(lambda row: (row['TimeHandoff']-row['PlayerBirthDate']).total_seconds()/seconds_in_year, axis=1)\n",
    "\n",
    "# Fix Turf\n",
    "\n",
    "def fix_turf(x):\n",
    "    \n",
    "    if re.search('turf',str(x).lower()):\n",
    "        return 'artificial'\n",
    "    \n",
    "    elif re.search('natural',str(x).lower()):\n",
    "        return 'natural'\n",
    "    \n",
    "    elif re.search('artifi',str(x).lower()):\n",
    "        return 'artificial'\n",
    "    \n",
    "    elif re.search('grass',str(x).lower()):\n",
    "        return 'natural'\n",
    "    \n",
    "    elif re.search('ubu',str(x).lower()):\n",
    "        return 'artificial'\n",
    "    \n",
    "    else:\n",
    "        return 'natural'\n",
    "    \n",
    "train['Turf'] = train['Turf'].apply(fix_turf)\n",
    "\n",
    "#Replace temperature by Median\n",
    "train['Temperature'][train['Temperature'].isnull() == True] = 60.436442\n",
    "\n",
    "#replace Humidity\n",
    "train['Humidity'][train['Humidity'].isnull() == True] = 55.646062\n",
    "\n",
    "#Fix WindSpeed\n",
    "def fix_windspeed(x):\n",
    "    a = re.findall(r'[\\d]+',str(x))\n",
    "    \n",
    "    if len(a) == 2:\n",
    "        return (float(a[0]) + float(a[1]))/2\n",
    "    \n",
    "    elif len(a) == 1:\n",
    "        return float(a[0])\n",
    "    \n",
    "    elif len(a) == 0:\n",
    "        return 5.476258188\n",
    "    \n",
    "    else:\n",
    "        return x\n",
    "    \n",
    "train['WindSpeed'] = train['WindSpeed'].apply(fix_windspeed)\n",
    "\n",
    "from string import punctuation\n",
    "\n",
    "def fix_winddirection(x):\n",
    "    \n",
    "    if pd.isna(x) or x in[\"8\",\"1\",\"13\"]:\n",
    "        return \"calm\"\n",
    "    \n",
    "    x = str(x).lower()\n",
    "    x= str(x).replace(\" \",\"\")\n",
    "    x= str(x).replace(\"from\",\"\")\n",
    "    x = ''.join([c for c in x if c not in punctuation])\n",
    "    if re.search('south',x):\n",
    "        x =  x.replace('south','s')\n",
    "    \n",
    "    if re.search('north',x):\n",
    "        x =  x.replace('north','n')\n",
    "    \n",
    "    if re.search('west',x):\n",
    "        x =  x.replace('west','w')\n",
    "\n",
    "    if re.search('east',x):\n",
    "        x =  x.replace('east','e')\n",
    "\n",
    "    return x\n",
    "  \n",
    "def create_class_winddir(x):\n",
    "    \n",
    "    if x in [\"calm\"]:\n",
    "        return \"winddir_class_1\"\n",
    "    \n",
    "    elif x in [\"s\",\"n\"]:\n",
    "        return \"winddir_class_2\"\n",
    "    \n",
    "    elif x in [\"ssw\",\"nnw\",\"sse\",\"nne\"]:\n",
    "        return \"winddir_class_3\"\n",
    "    \n",
    "    elif x in [\"sw\",\"nw\",\"se\",\"ne\"]:\n",
    "        return \"winddir_class_4\"\n",
    "    \n",
    "    elif x in [\"ene\",\"wnw\",\"ese\",\"wsw\"]:\n",
    "        return \"winddir_class_5\"\n",
    "    \n",
    "    elif x in [\"e\",\"w\"]:\n",
    "        return \"winddir_class_6\"\n",
    "    \n",
    "    else:\n",
    "        return \"winddir_class_1\"\n",
    "    \n",
    "train['WindDirection']= train['WindDirection'].apply(fix_winddirection)\n",
    "train['WindDirection'] = train['WindDirection'].apply(create_class_winddir)\n",
    "\n",
    "#Fix Game Weather\n",
    "    \n",
    "def fix_gameweather(x):\n",
    "\n",
    "    if pd.isna(x):\n",
    "        return np.nan\n",
    "    \n",
    "    x = str(x).lower()\n",
    "    x= str(x).replace(\" \",\"\")\n",
    "    x = ''.join([c for c in x if c not in punctuation])\n",
    "\n",
    "    if re.search('control',x) :\n",
    "        return \"control\" \n",
    "    elif  re.search('indoor',x):\n",
    "        return \"control\"\n",
    "    \n",
    "    elif re.search('rain',x) or re.search('shower',x):\n",
    "        if re.findall(r\"[\\d]+%?\",x):\n",
    "            return re.findall(r\"[\\d]+%?\",x)[0] + 'rain'\n",
    "            \n",
    "        elif re.search('part',x):\n",
    "            return \"partlyrain\"\n",
    "        else:\n",
    "            return \"rain\"\n",
    "    \n",
    "    elif re.search('snow',x):\n",
    "        return \"snow\" \n",
    "    \n",
    "    elif re.search('cold',x):\n",
    "        return \"cold\" \n",
    "    \n",
    "    elif re.search('clear',x) or re.search('fair',x) or re.search('mph',x) :\n",
    "        return \"clear\" \n",
    "    \n",
    "    elif re.search('sun',x):\n",
    "        if re.search('part',x):\n",
    "            return \"partlysun\"\n",
    "        else:\n",
    "            return \"sun\"\n",
    "    \n",
    "    elif re.search('cloud',x) or re.search('overcast',x) or re.search('coudy',x) or re.search('hazy',x) or re.search(\"clouidy\",x):\n",
    "        if re.search('part',x):\n",
    "            return \"partlycloudy\"\n",
    "        else:\n",
    "            return \"cloudy\"\n",
    "    else:\n",
    "        return x\n",
    "    \n",
    "import re\n",
    "    \n",
    "\n",
    "def weather_weights(x):\n",
    "    \n",
    "    if pd.isna(x):\n",
    "        return 0\n",
    "    try:\n",
    "        if re.search(\"snow\",x):\n",
    "            return -3\n",
    "    except:\n",
    "        print(x)\n",
    "        return 0\n",
    "    \n",
    "    \n",
    "    if re.search(\"sun\",x):\n",
    "        if re.search(\"partly\",x):\n",
    "            return 0.5\n",
    "        else:\n",
    "            return 1\n",
    "    elif re.search(\"cloud\",x):\n",
    "         if re.search(\"partly\",x):\n",
    "            return -0.25\n",
    "         else:\n",
    "            return -0.5\n",
    "        \n",
    "    elif re.search(\"clear\",x):\n",
    "        return 1.5\n",
    "\n",
    "    elif re.search(\"cold\",x):\n",
    "        return -1\n",
    "    \n",
    "    elif re.search(\"rain\",x):\n",
    "        if re.findall(r\"[\\d]+\",x):\n",
    "            if len(re.findall(r\"[\\d]+\",x)[0]) == 2:\n",
    "                return int(re.findall(r\"[\\d]+\",x)[0])/100 * (-2)\n",
    "            else:\n",
    "                return (int(re.findall(r\"[\\d]+\",x)[0][:2]) + int(re.findall(r\"[\\d]+\",x)[0][2:]))/200 * (-2)   \n",
    "        else:\n",
    "            return -2\n",
    "    \n",
    "    elif re.search(\"control\",x):\n",
    "        return 3\n",
    "    else:\n",
    "        return 0\n",
    "    \n",
    "\n",
    "    \n",
    "train['GameWeather'] = train['GameWeather'].apply(fix_gameweather)\n",
    "train['GameWeather'] = train['GameWeather'].apply(weather_weights)\n",
    "\n",
    "#Fix Team Names\n",
    "def fix_team_name(x):\n",
    "    \n",
    "    if x == 'BLT':\n",
    "        return 'BAL'\n",
    "    elif x == 'CLV':\n",
    "        return 'CLE'\n",
    "    elif x == 'ARZ':\n",
    "        return 'ARI'\n",
    "    elif x == 'HST':\n",
    "        return 'HOU'\n",
    "    else:\n",
    "        return x\n",
    "\n",
    "train['PossessionTeam'] = train['PossessionTeam'].apply(fix_team_name)\n",
    "train['HomePossesion'] = train['PossessionTeam'] == train['HomeTeamAbbr']\n",
    "train['PlayDirection'] = train['PlayDirection'].apply(lambda x: x.strip() == 'right')\n",
    "train['Team'] = train['Team'].apply(lambda x: x.strip()=='home')\n",
    "\n",
    "#checking if the player is the rusher\n",
    "train['IsRusher'] = train['NflId'] == train['NflIdRusher']\n",
    "\n",
    "#Fixing the Orientation of Player and Running Direction\n",
    "def fix_orientation(angle, play_direction):\n",
    "    if play_direction == 0:\n",
    "        new_angle = 360.0 - angle\n",
    "        if new_angle == 360.0:\n",
    "            new_angle = 0.0\n",
    "        return new_angle\n",
    "    else:\n",
    "        return angle\n",
    "    \n",
    "train['Orientation'] = train.apply(lambda row: fix_orientation(row['Orientation'], row['PlayDirection']), axis=1)\n",
    "train['Dir'] = train.apply(lambda row: fix_orientation(row['Dir'], row['PlayDirection']), axis=1)\n",
    "\n",
    "#Yards Left to Finish Line\n",
    "train['HomeField'] = train['FieldPosition'] == train['HomeTeamAbbr']\n",
    "train['YardsLeft'] = train.apply(lambda row: 100-row['YardLine'] if row['HomeField'] else row['YardLine'], axis=1)\n",
    "train['YardsLeft'] = train.apply(lambda row: row['YardsLeft'] if row['PlayDirection'] else 100-row['YardsLeft'], axis=1)\n",
    "\n",
    "train.drop(train.index[(train['YardsLeft']<train['Yards']) | (train['YardsLeft']-100>train['Yards'])], inplace=True)\n",
    "\n",
    "#calculating kinetic energy and momentum\n",
    "train['momentum'] = train['PlayerWeight']*train['S']\n",
    "# train['KineticEnergy'] = 0.5*train['PlayerWeight']*(train['S'])**2\n",
    "train['PlayerBMI'] = 703*(train['PlayerWeight']/(train['PlayerHeight'])**2)\n",
    "\n",
    "#Calculating Game Clock\n",
    "def gameclock():\n",
    "    lis_gameclock = list()\n",
    "    for time in train[\"GameClock\"].unique():\n",
    "        lis_gameclock.append(int(time.split(':')[0])*60 + int(time.split(':')[1]))\n",
    "    dict_gameclock = {i:j for i,j in zip(train[\"GameClock\"].unique(),lis_gameclock)}\n",
    "    return dict_gameclock\n",
    "\n",
    "train['GameClock'] = train[\"GameClock\"].map(gameclock())\n",
    "train[\"GameClock\"] = (train['Quarter']-1)*15*60 - train['GameClock'] + 900 \n",
    "\n",
    "\n",
    "\n",
    "\n",
    "# encode_formation = pd.get_dummies(train['OffenseFormation'])\n",
    "# train = pd.concat([train,encode_formation], axis = 1)\n",
    "# encode_Wdirection = pd.get_dummies(train['WindDirection'])\n",
    "# train = pd.concat([train, encode_Wdirection], axis = 1)\n"
   ]
  },
  {
   "cell_type": "code",
   "execution_count": null,
   "metadata": {},
   "outputs": [],
   "source": []
  },
  {
   "cell_type": "markdown",
   "metadata": {},
   "source": [
    "# Web Scraping and Data Augmentation"
   ]
  },
  {
   "cell_type": "code",
   "execution_count": 44,
   "metadata": {},
   "outputs": [],
   "source": [
    "names = list()\n",
    "scores = list()\n",
    "url_lis = list()\n",
    "\n",
    "def names_scores(url, names, scores): #gets names and scores of football players\n",
    "    response = requests.get(url)\n",
    "    soup = bs4.BeautifulSoup(response.content.decode('utf-8'))\n",
    "    for p in soup.find_all('a'):\n",
    "        try:\n",
    "            if p.get('class')[0] == 'playerCard' or p.get('class')[0] == 'playerName':\n",
    "                names.append(p.text)\n",
    "        except:\n",
    "            continue\n",
    "    for s in soup.find_all('span'):\n",
    "        try:\n",
    "            if s.get('class')[0] == 'playerSeasonTotal':\n",
    "                scores.append(s.text)\n",
    "        except:\n",
    "            continue\n",
    "    return names,scores\n",
    "\n",
    "\n",
    "def get_urls(url): #uses recursion to go through the next pages and get urls of all pages\n",
    "    response = requests.get(url)\n",
    "    soup = bs4.BeautifulSoup(response.content.decode('utf-8'))\n",
    "    url_lis.append(url)\n",
    "    for next_link in soup.find_all('li'):\n",
    "        try:\n",
    "            if (next_link.get('class'))[0] == 'next':\n",
    "                new_url = 'https://fantasy.nfl.com/research/players' + next_link.find('a').get('href')\n",
    "        except:\n",
    "            continue\n",
    "    return get_urls(new_url)\n",
    "\n",
    "#using functions to get names and scores of the players\n",
    "names_2017 = []\n",
    "scores_2017 = []\n",
    "try:\n",
    "    get_urls('https://fantasy.nfl.com/research/scoringleaders?offset=1&position=O&sort=pts&statCategory=stats&statSeason=2017&statType=seasonStats&statWeek=13')\n",
    "except:\n",
    "    pass\n",
    "for url in url_lis:\n",
    "    names_scores(url, names_2017, scores_2017)\n",
    "# print('2017 done')\n",
    "#tuple of player name and score\n",
    "NameScore_dict_2017 = dict([(n,s) for n,s in (zip([name.lower() for name in names_2017],[float(score) for score in scores_2017]))])\n",
    "#PlayerScore column in the dataframe gives the score fore each player. A lot of NaN Values\n",
    "train['PlayerScore'] = train['DisplayName'].str.lower().map(NameScore_dict_2017)"
   ]
  },
  {
   "cell_type": "code",
   "execution_count": 45,
   "metadata": {},
   "outputs": [],
   "source": [
    "#including team rankings\n",
    "url = 'https://www.teamrankings.com/nfl/rankings/teams/?date=2018-02-05'\n",
    "wiki_url = 'https://en.wikipedia.org/wiki/Wikipedia:WikiProject_National_Football_League/National_Football_League_team_abbreviations'\n",
    "response_wiki = requests.get(wiki_url)\n",
    "soup_wiki = bs4.BeautifulSoup(response_wiki.content.decode('utf-8'))\n",
    "response = requests.get(url)\n",
    "soup = bs4.BeautifulSoup(response.content.decode('utf-8'))\n",
    "team = []\n",
    "for td in soup_wiki.find_all('td'):\n",
    "    team.append(td.text)\n",
    "    \n",
    "name = []\n",
    "for i in soup_wiki.find_all('td'):\n",
    "    try:\n",
    "        name.append(i.find('a').get('title'))\n",
    "    except:\n",
    "        continue\n",
    "\n",
    "\n",
    "abb = []\n",
    "for i in soup_wiki.find_all('td'):\n",
    "    if len(i.text) <= 4:\n",
    "        abb.append(i.text.replace('\\n',''))\n",
    "        \n",
    "dict_abb_name = dict(zip(name, abb))\n",
    "\n",
    "name_rank = []\n",
    "for name in soup.find_all('td', class_='text-left nowrap'):\n",
    "    name_rank.append(name.find('a').text)\n",
    "\n",
    "a_dict= {name_rank[i-1]:i for i in range(1,33)}\n",
    "\n",
    "df_temp_dict = pd.DataFrame()\n",
    "df_temp_dict['names'] = a_dict.keys()\n",
    "df_temp_dict['names'] = df_temp_dict['names'].map(dict_abb_name)\n",
    "df_temp_dict['rank'] = a_dict.values()\n",
    "rank_dict = df_temp_dict.set_index(['names']).to_dict()['rank']\n",
    "\n",
    "# train['PossessionTeamRank'] = train[\"PossessionTeam\"].map(rank_dict)\n",
    "train['HomeTeamRank'] = train['HomeTeamAbbr'].map(rank_dict)\n",
    "train['VisitorTeamRank'] = train['VisitorTeamAbbr'].map(rank_dict)\n",
    "#train[['PossessionTeamRank', 'HomeTeamRank', 'VisitorTeamRank']]"
   ]
  },
  {
   "cell_type": "code",
   "execution_count": 46,
   "metadata": {},
   "outputs": [
    {
     "name": "stderr",
     "output_type": "stream",
     "text": [
      "C:\\Users\\piyus\\Anaconda3\\lib\\site-packages\\ipykernel_launcher.py:9: RuntimeWarning: invalid value encountered in sqrt\n",
      "  if __name__ == '__main__':\n"
     ]
    }
   ],
   "source": [
    "play_rusher = train[train['NflId']==train['NflIdRusher']]\n",
    "play_rusher_cordinates = play_rusher[['PlayId','X','Y']].rename(columns={'X':'X_rusher','Y':'Y_rusher'})\n",
    "\n",
    "train = pd.merge(train, play_rusher_cordinates, how='left', on='PlayId',\n",
    "       sort=False, suffixes=(\"x\",\"y\"),\n",
    "       copy=True, indicator=False,\n",
    "       validate=None)\n",
    "\n",
    "train['dist_from_rusher']=np.sqrt((train['X_rusher']-train['X'])*2 + (train['Y_rusher']-train['Y'])*2)\n",
    "train['opp_or_team'] = np.where(train['HomePossesion']^train['Team'],\"opp_to_rusher\",\"team_to_rusher\")\n",
    "play_team_dist_from_rusher = train.groupby(['PlayId','opp_or_team']).agg({'dist_from_rusher':'mean'}).reset_index()\n",
    "play_dist_from_rusher_wide = play_team_dist_from_rusher.pivot(index='PlayId', columns='opp_or_team', values='dist_from_rusher').reset_index().rename(columns={'opp_to_rusher':'avg_rusher_dist_to_opp','team_to_rusher':'avg_rusher_dist_to_team'})\n",
    "train = pd.merge(train, play_dist_from_rusher_wide, how='left', on='PlayId',\n",
    "       sort=False, suffixes=(\"x\",\"y\"),\n",
    "       copy=True, indicator=False,\n",
    "       validate=None)\n",
    "train.fillna(-999, inplace=True)"
   ]
  },
  {
   "cell_type": "markdown",
   "metadata": {},
   "source": [
    "# Visualizations"
   ]
  },
  {
   "cell_type": "markdown",
   "metadata": {},
   "source": [
    "Formations"
   ]
  },
  {
   "cell_type": "code",
   "execution_count": 7,
   "metadata": {
    "scrolled": true
   },
   "outputs": [
    {
     "data": {
      "image/png": "[encoded data removed]",
      "text/plain": [
       "<Figure size 1080x1080 with 8 Axes>"
      ]
     },
     "metadata": {
      "needs_background": "light"
     },
     "output_type": "display_data"
    }
   ],
   "source": [
    "df = pd.read_csv('train.csv')\n",
    "df = df[df['NflId'] == df['NflIdRusher']]\n",
    "df_gr = df.groupby(['OffenseFormation']).mean()\n",
    "formations = np.array(df_gr.index.tolist()).reshape(4,2)\n",
    "figs, axs = plt.subplots(4,2)\n",
    "figs.set_figwidth(15)\n",
    "figs.set_figheight(15)\n",
    "\n",
    "\n",
    "\n",
    "for i in range(4):\n",
    "    for j in range(2):\n",
    "        var_filter = df[df['OffenseFormation'] == formations[i][j]]['Yards']\n",
    "        axs[i,j].hist(var_filter, bins = len(var_filter.unique()))\n",
    "        axs[i,j].set_xticklabels(var_filter.unique())\n",
    "        axs[i,j].set_title(formations[i][j], loc = 'left')\n"
   ]
  },
  {
   "cell_type": "markdown",
   "metadata": {},
   "source": [
    "Yards Left"
   ]
  },
  {
   "cell_type": "code",
   "execution_count": 28,
   "metadata": {},
   "outputs": [
    {
     "data": {
      "text/plain": [
       "<BarContainer object of 99 artists>"
      ]
     },
     "execution_count": 28,
     "metadata": {},
     "output_type": "execute_result"
    },
    {
     "data": {
      "image/png": "[encoded data removed]",
      "text/plain": [
       "<Figure size 432x288 with 1 Axes>"
      ]
     },
     "metadata": {
      "needs_background": "light"
     },
     "output_type": "display_data"
    }
   ],
   "source": [
    "\n",
    "df_yards = train[train['NflId'] == train['NflIdRusher']][['YardsLeft','Yards']]\n",
    "\n",
    "plt.bar(df_yards.sort_values(['YardsLeft']).groupby(['YardsLeft']).count().index,df_yards.sort_values(['YardsLeft']).groupby(['YardsLeft']).count()['Yards'].values)\n",
    "\n"
   ]
  },
  {
   "cell_type": "markdown",
   "metadata": {},
   "source": [
    "Position"
   ]
  },
  {
   "cell_type": "code",
   "execution_count": 31,
   "metadata": {},
   "outputs": [
    {
     "data": {
      "text/plain": [
       "<BarContainer object of 9 artists>"
      ]
     },
     "execution_count": 31,
     "metadata": {},
     "output_type": "execute_result"
    },
    {
     "data": {
      "image/png": "[encoded data removed]",
      "text/plain": [
       "<Figure size 432x288 with 1 Axes>"
      ]
     },
     "metadata": {
      "needs_background": "light"
     },
     "output_type": "display_data"
    }
   ],
   "source": [
    "df_pos = df[df['NflId'] == df['NflIdRusher']][['Position','Yards']]\n",
    "plt.bar(df_pos.groupby(['Position']).count().index, df_pos.groupby(['Position']).count().Yards)"
   ]
  },
  {
   "cell_type": "markdown",
   "metadata": {},
   "source": [
    "# Light GBM "
   ]
  },
  {
   "cell_type": "code",
   "execution_count": 52,
   "metadata": {},
   "outputs": [
    {
     "name": "stderr",
     "output_type": "stream",
     "text": [
      "C:\\Users\\piyus\\Anaconda3\\lib\\site-packages\\pandas\\core\\frame.py:3940: SettingWithCopyWarning: \n",
      "A value is trying to be set on a copy of a slice from a DataFrame\n",
      "\n",
      "See the caveats in the documentation: http://pandas.pydata.org/pandas-docs/stable/indexing.html#indexing-view-versus-copy\n",
      "  errors=errors)\n"
     ]
    }
   ],
   "source": [
    "#Categorical variables for label encoding/OneHot Encoding\n",
    "a = ['HomeField','PlayDirection','HomePossesion','WindDirection',\n",
    "     'Team','OffenseFormation','StadiumType','Turf']\n",
    "\n",
    "for i in a:\n",
    "    train[i] = train[i].astype('str')\n",
    "    \n",
    "le = preprocessing.LabelEncoder()\n",
    "for i in a:\n",
    "    train[i] = le.fit_transform(train[i])\n",
    "\n",
    "\n",
    "Model_X = train[train['IsRusher']==True]\n",
    "Model_Y = le.fit_transform(Model_X['Yards'])\n",
    "Model_X.drop(['Yards', 'IsRusher','GameId', 'PlayId','NflId','DisplayName','HomeTeamAbbr','OffensePersonnel','Position',\n",
    "              'VisitorTeamAbbr','Stadium','Location','JerseyNumber','Season','PlayerCollegeName','Week','YardLine',\n",
    "              'PlayerBirthDate','TimeHandoff','TimeSnap','NflIdRusher', 'X_rusher', 'Y_rusher', 'dist_from_rusher','DefensePersonnel',\n",
    "               'opp_or_team',\"FieldPosition\",\"PossessionTeam\",\"FieldPosition\"],axis = 1, inplace = True)\n",
    "\n",
    "# Splitting the dataset into the Training set and Test set\n",
    "from sklearn.model_selection import train_test_split\n",
    "x_train, x_test, y_train, y_test = train_test_split(Model_X, Model_Y, test_size = 0.25, random_state = 0)\n",
    "\n",
    "# Feature Scaling\n",
    "from sklearn.preprocessing import StandardScaler\n",
    "sc = StandardScaler()\n",
    "x_train = sc.fit_transform(x_train)\n",
    "x_test = sc.fit_transform(x_test)\n"
   ]
  },
  {
   "cell_type": "markdown",
   "metadata": {},
   "source": [
    "# Grid Search for Hyper Parameter Tuning"
   ]
  },
  {
   "cell_type": "markdown",
   "metadata": {},
   "source": [
    "This part of the code will take atleast 3-4 hours to run. The best parameters have been used to produce the model in the following block"
   ]
  },
  {
   "cell_type": "code",
   "execution_count": 53,
   "metadata": {
    "scrolled": true
   },
   "outputs": [],
   "source": [
    "# import lightgbm as lgb\n",
    "\n",
    "# param_grid = {\n",
    "#     'num_leaves': [15,31,63],\n",
    "#     'min_data_in_leaf': [5,10,30, 50, 100],\n",
    "#     'max_depth': [5, 10, 25],\n",
    "#     'num_class': [199]\n",
    "#     }\n",
    "\n",
    "# lgb_estimator = lgb.LGBMClassifier(boosting_type='gbdt',objective='multiclass', num_boost_round=200, learning_rate=0.01, metric='multi_logloss')\n",
    "\n",
    "# gsearch = GridSearchCV(estimator=lgb_estimator, param_grid=param_grid, cv=5)\n",
    "# lgb_model = gsearch.fit(X=x_train, y=y_train)\n",
    "\n",
    "# print(lgb_model.best_params_, lgb_model.best_score_)"
   ]
  },
  {
   "cell_type": "code",
   "execution_count": 54,
   "metadata": {},
   "outputs": [
    {
     "name": "stderr",
     "output_type": "stream",
     "text": [
      "C:\\Users\\piyus\\Anaconda3\\lib\\site-packages\\lightgbm\\basic.py:1247: UserWarning: categorical_feature in Dataset is overridden.\n",
      "New categorical_feature is ['HomeField', 'HomePossesion', 'OffenseFormation', 'PlayDirection', 'StadiumType', 'Team', 'Turf', 'WindDirection']\n",
      "  'New categorical_feature is {}'.format(sorted(list(categorical_feature))))\n"
     ]
    }
   ],
   "source": [
    "import lightgbm as lgb\n",
    "d_train = lgb.Dataset(x_train, label=y_train)\n",
    "params = {}\n",
    "params['learning_rate'] = 0.01\n",
    "params['boosting_type'] = 'gbdt'\n",
    "params['objective'] = 'multiclass'\n",
    "params['metric'] = 'multi_logloss'\n",
    "params['num_class'] = 199\n",
    "params['num_leaves'] = 15\n",
    "params['min_data'] = 100\n",
    "params['max_depth'] = 5\n",
    "clf = lgb.train(params, d_train, num_boost_round=200,\n",
    "                feature_name=list(Model_X.columns),\n",
    "                categorical_feature = a,verbose_eval = 10)\n",
    "#,early_stopping_rounds = 10\n"
   ]
  },
  {
   "cell_type": "markdown",
   "metadata": {},
   "source": [
    "# Performance Function"
   ]
  },
  {
   "cell_type": "code",
   "execution_count": 55,
   "metadata": {},
   "outputs": [],
   "source": [
    "def squared_loss(y_train_y,y_pred):\n",
    "    x = y_train_y - y_pred\n",
    "    y = np.square(x)\n",
    "    return (y.sum())/(y_pred.shape[0]*y_pred.shape[1])"
   ]
  },
  {
   "cell_type": "markdown",
   "metadata": {},
   "source": [
    "# Prediction"
   ]
  },
  {
   "cell_type": "code",
   "execution_count": 56,
   "metadata": {},
   "outputs": [],
   "source": [
    "y_pred=clf.predict(x_test)\n",
    "results = np.cumsum(y_pred, axis=1)"
   ]
  },
  {
   "cell_type": "code",
   "execution_count": 57,
   "metadata": {},
   "outputs": [],
   "source": [
    "n = y_test\n",
    "o = np.zeros((n.size, 199))\n",
    "o[np.arange(n.size),n] = 1\n",
    "y_train_y = np.cumsum(o,axis =1)"
   ]
  },
  {
   "cell_type": "code",
   "execution_count": 58,
   "metadata": {},
   "outputs": [
    {
     "data": {
      "text/plain": [
       "0.012523492882735748"
      ]
     },
     "execution_count": 58,
     "metadata": {},
     "output_type": "execute_result"
    }
   ],
   "source": [
    "squared_loss(y_train_y,results)"
   ]
  },
  {
   "cell_type": "markdown",
   "metadata": {},
   "source": [
    "# Feature Importance"
   ]
  },
  {
   "cell_type": "code",
   "execution_count": 59,
   "metadata": {},
   "outputs": [
    {
     "data": {
      "text/plain": [
       "<matplotlib.axes._subplots.AxesSubplot at 0x2178b314b70>"
      ]
     },
     "execution_count": 59,
     "metadata": {},
     "output_type": "execute_result"
    },
    {
     "data": {
      "image/png": "[encoded data removed]",
      "text/plain": [
       "<Figure size 432x288 with 1 Axes>"
      ]
     },
     "metadata": {
      "needs_background": "light"
     },
     "output_type": "display_data"
    }
   ],
   "source": [
    "lgb.plot_importance(clf,height=1.0,max_num_features=20)"
   ]
  },
  {
   "cell_type": "markdown",
   "metadata": {},
   "source": [
    "# Neural Net"
   ]
  },
  {
   "cell_type": "code",
   "execution_count": 60,
   "metadata": {},
   "outputs": [],
   "source": [
    "NN_df = train"
   ]
  },
  {
   "cell_type": "code",
   "execution_count": 61,
   "metadata": {},
   "outputs": [
    {
     "name": "stderr",
     "output_type": "stream",
     "text": [
      "C:\\Users\\piyus\\Anaconda3\\lib\\site-packages\\pandas\\core\\frame.py:3940: SettingWithCopyWarning: \n",
      "A value is trying to be set on a copy of a slice from a DataFrame\n",
      "\n",
      "See the caveats in the documentation: http://pandas.pydata.org/pandas-docs/stable/indexing.html#indexing-view-versus-copy\n",
      "  errors=errors)\n"
     ]
    }
   ],
   "source": [
    "#OneHot Encoding the Categorical Variables\n",
    "for i in a:\n",
    "    encode_formation = pd.get_dummies(NN_df[i],prefix = i)\n",
    "    NN_df = pd.concat([NN_df,encode_formation], axis = 1)\n",
    "    NN_df.drop([i],axis = 1, inplace = True)\n",
    "    \n",
    "Model_X = NN_df[NN_df['IsRusher']==True]\n",
    "Model_Y = le.fit_transform(Model_X['Yards'])\n",
    "Model_X.drop(['Yards', 'IsRusher','GameId', 'PlayId','NflId','DisplayName','HomeTeamAbbr','OffensePersonnel','Position',\n",
    "              'VisitorTeamAbbr','Stadium','Location','JerseyNumber','Season','PlayerCollegeName','Week','DefensePersonnel',\n",
    "              'PlayerBirthDate','TimeHandoff','TimeSnap','NflIdRusher', 'X_rusher', 'Y_rusher', 'dist_from_rusher',\n",
    "               'opp_or_team',\"FieldPosition\",\"PossessionTeam\",\"FieldPosition\"],axis = 1, inplace = True)\n",
    "    \n",
    "from sklearn.model_selection import train_test_split\n",
    "x_train, x_test, y_train, y_test = train_test_split(Model_X, Model_Y, test_size = 0.25, random_state = 0)\n",
    "\n",
    "sc = StandardScaler()\n",
    "x_train = sc.fit_transform(x_train)\n",
    "x_test = sc.fit_transform(x_test)\n"
   ]
  },
  {
   "cell_type": "code",
   "execution_count": 62,
   "metadata": {},
   "outputs": [],
   "source": [
    "def crps(y_true, y_pred):\n",
    "    return K.mean(K.square(y_true - K.cumsum(y_pred, axis=1)), axis=1)"
   ]
  },
  {
   "cell_type": "code",
   "execution_count": 63,
   "metadata": {},
   "outputs": [],
   "source": [
    "def get_model():\n",
    "    x = keras.layers.Input(shape=[x_train.shape[1]])\n",
    "    fc1 = keras.layers.Dense(units = 400, input_shape=[x_train.shape[1]])(x)\n",
    "    act1 = keras.layers.ReLU()(fc1)\n",
    "    bn1 = keras.layers.BatchNormalization()(act1)\n",
    "    dp1 = keras.layers.Dropout(0.3)(bn1)\n",
    "    \n",
    "    fc2 = keras.layers.Dense(units=700, input_shape=[x_train.shape[1]])(dp1)\n",
    "    act2 = keras.layers.ReLU()(fc2)\n",
    "    bn2 = keras.layers.BatchNormalization()(act2)\n",
    "    dp2 = keras.layers.Dropout(0.4)(bn2)\n",
    "\n",
    "    \n",
    "    fc3 = keras.layers.Dense(units=450)(dp2)\n",
    "    act3 = keras.layers.ReLU()(fc3)\n",
    "    bn3 = keras.layers.BatchNormalization()(act3)\n",
    "    dp3 = keras.layers.Dropout(0.25)(bn3)\n",
    "\n",
    "    \n",
    "    fc4 = keras.layers.Dense(units=300)(dp3)\n",
    "    act4 = keras.layers.ReLU()(fc4)\n",
    "    bn4 = keras.layers.BatchNormalization()(act4)\n",
    "    dp4 = keras.layers.Dropout(0.12)(bn4)\n",
    "\n",
    "    \n",
    "    output = keras.layers.Dense(units=199, activation='softmax')(dp3)\n",
    "    model = keras.models.Model(inputs=[x], outputs=[output])\n",
    "    return model\n",
    "\n",
    "\n",
    "def train_model(X_train, y_train, X_val, y_val):\n",
    "    model = get_model()\n",
    "    model.compile(optimizer='Adadelta', loss=crps)\n",
    "    er = EarlyStopping(patience=20, min_delta=1e-4, restore_best_weights=True, monitor='val_loss')\n",
    "    model.fit(X_train, y_train, epochs=200, callbacks=[er], validation_data=[X_val, y_val], batch_size=64)\n",
    "    return model"
   ]
  },
  {
   "cell_type": "code",
   "execution_count": 64,
   "metadata": {},
   "outputs": [],
   "source": [
    "n = y_train\n",
    "o = np.zeros((n.size, 199))\n",
    "o[np.arange(n.size),n] = 1\n",
    "y_train_x = np.cumsum(o,axis =1)"
   ]
  },
  {
   "cell_type": "code",
   "execution_count": 65,
   "metadata": {},
   "outputs": [
    {
     "ename": "InternalError",
     "evalue": "cudaGetDevice() failed. Status: cudaGetErrorString symbol not found.",
     "output_type": "error",
     "traceback": [
      "\u001b[1;31m---------------------------------------------------------------------------\u001b[0m",
      "\u001b[1;31mInternalError\u001b[0m                             Traceback (most recent call last)",
      "\u001b[1;32m<ipython-input-65-d91a0c13f35a>\u001b[0m in \u001b[0;36m<module>\u001b[1;34m\u001b[0m\n\u001b[0;32m      1\u001b[0m \u001b[0mx_tr\u001b[0m\u001b[1;33m,\u001b[0m \u001b[0mx_vl\u001b[0m\u001b[1;33m,\u001b[0m \u001b[0my_tr\u001b[0m\u001b[1;33m,\u001b[0m \u001b[0my_vl\u001b[0m \u001b[1;33m=\u001b[0m \u001b[0mtrain_test_split\u001b[0m\u001b[1;33m(\u001b[0m\u001b[0mx_train\u001b[0m\u001b[1;33m,\u001b[0m \u001b[0my_train_x\u001b[0m\u001b[1;33m,\u001b[0m \u001b[0mtest_size\u001b[0m\u001b[1;33m=\u001b[0m\u001b[1;36m0.25\u001b[0m\u001b[1;33m,\u001b[0m \u001b[0mrandom_state\u001b[0m\u001b[1;33m=\u001b[0m\u001b[1;36m42\u001b[0m\u001b[1;33m)\u001b[0m\u001b[1;33m\u001b[0m\u001b[1;33m\u001b[0m\u001b[0m\n\u001b[1;32m----> 2\u001b[1;33m \u001b[0mmodel\u001b[0m \u001b[1;33m=\u001b[0m \u001b[0mtrain_model\u001b[0m\u001b[1;33m(\u001b[0m\u001b[0mx_tr\u001b[0m\u001b[1;33m,\u001b[0m \u001b[0my_tr\u001b[0m\u001b[1;33m,\u001b[0m \u001b[0mx_vl\u001b[0m\u001b[1;33m,\u001b[0m \u001b[0my_vl\u001b[0m\u001b[1;33m)\u001b[0m\u001b[1;33m\u001b[0m\u001b[1;33m\u001b[0m\u001b[0m\n\u001b[0m",
      "\u001b[1;32m<ipython-input-63-e771a83fa0ac>\u001b[0m in \u001b[0;36mtrain_model\u001b[1;34m(X_train, y_train, X_val, y_val)\u001b[0m\n\u001b[0;32m     30\u001b[0m \u001b[1;33m\u001b[0m\u001b[0m\n\u001b[0;32m     31\u001b[0m \u001b[1;32mdef\u001b[0m \u001b[0mtrain_model\u001b[0m\u001b[1;33m(\u001b[0m\u001b[0mX_train\u001b[0m\u001b[1;33m,\u001b[0m \u001b[0my_train\u001b[0m\u001b[1;33m,\u001b[0m \u001b[0mX_val\u001b[0m\u001b[1;33m,\u001b[0m \u001b[0my_val\u001b[0m\u001b[1;33m)\u001b[0m\u001b[1;33m:\u001b[0m\u001b[1;33m\u001b[0m\u001b[1;33m\u001b[0m\u001b[0m\n\u001b[1;32m---> 32\u001b[1;33m     \u001b[0mmodel\u001b[0m \u001b[1;33m=\u001b[0m \u001b[0mget_model\u001b[0m\u001b[1;33m(\u001b[0m\u001b[1;33m)\u001b[0m\u001b[1;33m\u001b[0m\u001b[1;33m\u001b[0m\u001b[0m\n\u001b[0m\u001b[0;32m     33\u001b[0m     \u001b[0mmodel\u001b[0m\u001b[1;33m.\u001b[0m\u001b[0mcompile\u001b[0m\u001b[1;33m(\u001b[0m\u001b[0moptimizer\u001b[0m\u001b[1;33m=\u001b[0m\u001b[1;34m'Adadelta'\u001b[0m\u001b[1;33m,\u001b[0m \u001b[0mloss\u001b[0m\u001b[1;33m=\u001b[0m\u001b[0mcrps\u001b[0m\u001b[1;33m)\u001b[0m\u001b[1;33m\u001b[0m\u001b[1;33m\u001b[0m\u001b[0m\n\u001b[0;32m     34\u001b[0m     \u001b[0mer\u001b[0m \u001b[1;33m=\u001b[0m \u001b[0mEarlyStopping\u001b[0m\u001b[1;33m(\u001b[0m\u001b[0mpatience\u001b[0m\u001b[1;33m=\u001b[0m\u001b[1;36m20\u001b[0m\u001b[1;33m,\u001b[0m \u001b[0mmin_delta\u001b[0m\u001b[1;33m=\u001b[0m\u001b[1;36m1e-4\u001b[0m\u001b[1;33m,\u001b[0m \u001b[0mrestore_best_weights\u001b[0m\u001b[1;33m=\u001b[0m\u001b[1;32mTrue\u001b[0m\u001b[1;33m,\u001b[0m \u001b[0mmonitor\u001b[0m\u001b[1;33m=\u001b[0m\u001b[1;34m'val_loss'\u001b[0m\u001b[1;33m)\u001b[0m\u001b[1;33m\u001b[0m\u001b[1;33m\u001b[0m\u001b[0m\n",
      "\u001b[1;32m<ipython-input-63-e771a83fa0ac>\u001b[0m in \u001b[0;36mget_model\u001b[1;34m()\u001b[0m\n\u001b[0;32m      1\u001b[0m \u001b[1;32mdef\u001b[0m \u001b[0mget_model\u001b[0m\u001b[1;33m(\u001b[0m\u001b[1;33m)\u001b[0m\u001b[1;33m:\u001b[0m\u001b[1;33m\u001b[0m\u001b[1;33m\u001b[0m\u001b[0m\n\u001b[0;32m      2\u001b[0m     \u001b[0mx\u001b[0m \u001b[1;33m=\u001b[0m \u001b[0mkeras\u001b[0m\u001b[1;33m.\u001b[0m\u001b[0mlayers\u001b[0m\u001b[1;33m.\u001b[0m\u001b[0mInput\u001b[0m\u001b[1;33m(\u001b[0m\u001b[0mshape\u001b[0m\u001b[1;33m=\u001b[0m\u001b[1;33m[\u001b[0m\u001b[0mx_train\u001b[0m\u001b[1;33m.\u001b[0m\u001b[0mshape\u001b[0m\u001b[1;33m[\u001b[0m\u001b[1;36m1\u001b[0m\u001b[1;33m]\u001b[0m\u001b[1;33m]\u001b[0m\u001b[1;33m)\u001b[0m\u001b[1;33m\u001b[0m\u001b[1;33m\u001b[0m\u001b[0m\n\u001b[1;32m----> 3\u001b[1;33m     \u001b[0mfc1\u001b[0m \u001b[1;33m=\u001b[0m \u001b[0mkeras\u001b[0m\u001b[1;33m.\u001b[0m\u001b[0mlayers\u001b[0m\u001b[1;33m.\u001b[0m\u001b[0mDense\u001b[0m\u001b[1;33m(\u001b[0m\u001b[0munits\u001b[0m \u001b[1;33m=\u001b[0m \u001b[1;36m400\u001b[0m\u001b[1;33m,\u001b[0m \u001b[0minput_shape\u001b[0m\u001b[1;33m=\u001b[0m\u001b[1;33m[\u001b[0m\u001b[0mx_train\u001b[0m\u001b[1;33m.\u001b[0m\u001b[0mshape\u001b[0m\u001b[1;33m[\u001b[0m\u001b[1;36m1\u001b[0m\u001b[1;33m]\u001b[0m\u001b[1;33m]\u001b[0m\u001b[1;33m)\u001b[0m\u001b[1;33m(\u001b[0m\u001b[0mx\u001b[0m\u001b[1;33m)\u001b[0m\u001b[1;33m\u001b[0m\u001b[1;33m\u001b[0m\u001b[0m\n\u001b[0m\u001b[0;32m      4\u001b[0m     \u001b[0mact1\u001b[0m \u001b[1;33m=\u001b[0m \u001b[0mkeras\u001b[0m\u001b[1;33m.\u001b[0m\u001b[0mlayers\u001b[0m\u001b[1;33m.\u001b[0m\u001b[0mReLU\u001b[0m\u001b[1;33m(\u001b[0m\u001b[1;33m)\u001b[0m\u001b[1;33m(\u001b[0m\u001b[0mfc1\u001b[0m\u001b[1;33m)\u001b[0m\u001b[1;33m\u001b[0m\u001b[1;33m\u001b[0m\u001b[0m\n\u001b[0;32m      5\u001b[0m     \u001b[0mbn1\u001b[0m \u001b[1;33m=\u001b[0m \u001b[0mkeras\u001b[0m\u001b[1;33m.\u001b[0m\u001b[0mlayers\u001b[0m\u001b[1;33m.\u001b[0m\u001b[0mBatchNormalization\u001b[0m\u001b[1;33m(\u001b[0m\u001b[1;33m)\u001b[0m\u001b[1;33m(\u001b[0m\u001b[0mact1\u001b[0m\u001b[1;33m)\u001b[0m\u001b[1;33m\u001b[0m\u001b[1;33m\u001b[0m\u001b[0m\n",
      "\u001b[1;32m~\\Anaconda3\\lib\\site-packages\\keras\\backend\\tensorflow_backend.py\u001b[0m in \u001b[0;36msymbolic_fn_wrapper\u001b[1;34m(*args, **kwargs)\u001b[0m\n\u001b[0;32m     73\u001b[0m         \u001b[1;32mif\u001b[0m \u001b[0m_SYMBOLIC_SCOPE\u001b[0m\u001b[1;33m.\u001b[0m\u001b[0mvalue\u001b[0m\u001b[1;33m:\u001b[0m\u001b[1;33m\u001b[0m\u001b[1;33m\u001b[0m\u001b[0m\n\u001b[0;32m     74\u001b[0m             \u001b[1;32mwith\u001b[0m \u001b[0mget_graph\u001b[0m\u001b[1;33m(\u001b[0m\u001b[1;33m)\u001b[0m\u001b[1;33m.\u001b[0m\u001b[0mas_default\u001b[0m\u001b[1;33m(\u001b[0m\u001b[1;33m)\u001b[0m\u001b[1;33m:\u001b[0m\u001b[1;33m\u001b[0m\u001b[1;33m\u001b[0m\u001b[0m\n\u001b[1;32m---> 75\u001b[1;33m                 \u001b[1;32mreturn\u001b[0m \u001b[0mfunc\u001b[0m\u001b[1;33m(\u001b[0m\u001b[1;33m*\u001b[0m\u001b[0margs\u001b[0m\u001b[1;33m,\u001b[0m \u001b[1;33m**\u001b[0m\u001b[0mkwargs\u001b[0m\u001b[1;33m)\u001b[0m\u001b[1;33m\u001b[0m\u001b[1;33m\u001b[0m\u001b[0m\n\u001b[0m\u001b[0;32m     76\u001b[0m         \u001b[1;32melse\u001b[0m\u001b[1;33m:\u001b[0m\u001b[1;33m\u001b[0m\u001b[1;33m\u001b[0m\u001b[0m\n\u001b[0;32m     77\u001b[0m             \u001b[1;32mreturn\u001b[0m \u001b[0mfunc\u001b[0m\u001b[1;33m(\u001b[0m\u001b[1;33m*\u001b[0m\u001b[0margs\u001b[0m\u001b[1;33m,\u001b[0m \u001b[1;33m**\u001b[0m\u001b[0mkwargs\u001b[0m\u001b[1;33m)\u001b[0m\u001b[1;33m\u001b[0m\u001b[1;33m\u001b[0m\u001b[0m\n",
      "\u001b[1;32m~\\Anaconda3\\lib\\site-packages\\keras\\engine\\base_layer.py\u001b[0m in \u001b[0;36m__call__\u001b[1;34m(self, inputs, **kwargs)\u001b[0m\n\u001b[0;32m    461\u001b[0m                                          \u001b[1;34m'You can build it manually via: '\u001b[0m\u001b[1;33m\u001b[0m\u001b[1;33m\u001b[0m\u001b[0m\n\u001b[0;32m    462\u001b[0m                                          '`layer.build(batch_input_shape)`')\n\u001b[1;32m--> 463\u001b[1;33m                 \u001b[0mself\u001b[0m\u001b[1;33m.\u001b[0m\u001b[0mbuild\u001b[0m\u001b[1;33m(\u001b[0m\u001b[0munpack_singleton\u001b[0m\u001b[1;33m(\u001b[0m\u001b[0minput_shapes\u001b[0m\u001b[1;33m)\u001b[0m\u001b[1;33m)\u001b[0m\u001b[1;33m\u001b[0m\u001b[1;33m\u001b[0m\u001b[0m\n\u001b[0m\u001b[0;32m    464\u001b[0m                 \u001b[0mself\u001b[0m\u001b[1;33m.\u001b[0m\u001b[0mbuilt\u001b[0m \u001b[1;33m=\u001b[0m \u001b[1;32mTrue\u001b[0m\u001b[1;33m\u001b[0m\u001b[1;33m\u001b[0m\u001b[0m\n\u001b[0;32m    465\u001b[0m \u001b[1;33m\u001b[0m\u001b[0m\n",
      "\u001b[1;32m~\\Anaconda3\\lib\\site-packages\\keras\\layers\\core.py\u001b[0m in \u001b[0;36mbuild\u001b[1;34m(self, input_shape)\u001b[0m\n\u001b[0;32m    893\u001b[0m                                       \u001b[0mname\u001b[0m\u001b[1;33m=\u001b[0m\u001b[1;34m'kernel'\u001b[0m\u001b[1;33m,\u001b[0m\u001b[1;33m\u001b[0m\u001b[1;33m\u001b[0m\u001b[0m\n\u001b[0;32m    894\u001b[0m                                       \u001b[0mregularizer\u001b[0m\u001b[1;33m=\u001b[0m\u001b[0mself\u001b[0m\u001b[1;33m.\u001b[0m\u001b[0mkernel_regularizer\u001b[0m\u001b[1;33m,\u001b[0m\u001b[1;33m\u001b[0m\u001b[1;33m\u001b[0m\u001b[0m\n\u001b[1;32m--> 895\u001b[1;33m                                       constraint=self.kernel_constraint)\n\u001b[0m\u001b[0;32m    896\u001b[0m         \u001b[1;32mif\u001b[0m \u001b[0mself\u001b[0m\u001b[1;33m.\u001b[0m\u001b[0muse_bias\u001b[0m\u001b[1;33m:\u001b[0m\u001b[1;33m\u001b[0m\u001b[1;33m\u001b[0m\u001b[0m\n\u001b[0;32m    897\u001b[0m             self.bias = self.add_weight(shape=(self.units,),\n",
      "\u001b[1;32m~\\Anaconda3\\lib\\site-packages\\keras\\engine\\base_layer.py\u001b[0m in \u001b[0;36madd_weight\u001b[1;34m(self, name, shape, dtype, initializer, regularizer, trainable, constraint)\u001b[0m\n\u001b[0;32m    277\u001b[0m         \u001b[1;32mif\u001b[0m \u001b[0mdtype\u001b[0m \u001b[1;32mis\u001b[0m \u001b[1;32mNone\u001b[0m\u001b[1;33m:\u001b[0m\u001b[1;33m\u001b[0m\u001b[1;33m\u001b[0m\u001b[0m\n\u001b[0;32m    278\u001b[0m             \u001b[0mdtype\u001b[0m \u001b[1;33m=\u001b[0m \u001b[0mself\u001b[0m\u001b[1;33m.\u001b[0m\u001b[0mdtype\u001b[0m\u001b[1;33m\u001b[0m\u001b[1;33m\u001b[0m\u001b[0m\n\u001b[1;32m--> 279\u001b[1;33m         weight = K.variable(initializer(shape, dtype=dtype),\n\u001b[0m\u001b[0;32m    280\u001b[0m                             \u001b[0mdtype\u001b[0m\u001b[1;33m=\u001b[0m\u001b[0mdtype\u001b[0m\u001b[1;33m,\u001b[0m\u001b[1;33m\u001b[0m\u001b[1;33m\u001b[0m\u001b[0m\n\u001b[0;32m    281\u001b[0m                             \u001b[0mname\u001b[0m\u001b[1;33m=\u001b[0m\u001b[0mname\u001b[0m\u001b[1;33m,\u001b[0m\u001b[1;33m\u001b[0m\u001b[1;33m\u001b[0m\u001b[0m\n",
      "\u001b[1;32m~\\Anaconda3\\lib\\site-packages\\keras\\initializers.py\u001b[0m in \u001b[0;36m__call__\u001b[1;34m(self, shape, dtype)\u001b[0m\n\u001b[0;32m    225\u001b[0m             \u001b[0mlimit\u001b[0m \u001b[1;33m=\u001b[0m \u001b[0mnp\u001b[0m\u001b[1;33m.\u001b[0m\u001b[0msqrt\u001b[0m\u001b[1;33m(\u001b[0m\u001b[1;36m3.\u001b[0m \u001b[1;33m*\u001b[0m \u001b[0mscale\u001b[0m\u001b[1;33m)\u001b[0m\u001b[1;33m\u001b[0m\u001b[1;33m\u001b[0m\u001b[0m\n\u001b[0;32m    226\u001b[0m             x = K.random_uniform(shape, -limit, limit,\n\u001b[1;32m--> 227\u001b[1;33m                                  dtype=dtype, seed=self.seed)\n\u001b[0m\u001b[0;32m    228\u001b[0m         \u001b[1;32mif\u001b[0m \u001b[0mself\u001b[0m\u001b[1;33m.\u001b[0m\u001b[0mseed\u001b[0m \u001b[1;32mis\u001b[0m \u001b[1;32mnot\u001b[0m \u001b[1;32mNone\u001b[0m\u001b[1;33m:\u001b[0m\u001b[1;33m\u001b[0m\u001b[1;33m\u001b[0m\u001b[0m\n\u001b[0;32m    229\u001b[0m             \u001b[0mself\u001b[0m\u001b[1;33m.\u001b[0m\u001b[0mseed\u001b[0m \u001b[1;33m+=\u001b[0m \u001b[1;36m1\u001b[0m\u001b[1;33m\u001b[0m\u001b[1;33m\u001b[0m\u001b[0m\n",
      "\u001b[1;32m~\\Anaconda3\\lib\\site-packages\\keras\\backend\\tensorflow_backend.py\u001b[0m in \u001b[0;36mrandom_uniform\u001b[1;34m(shape, minval, maxval, dtype, seed)\u001b[0m\n\u001b[0;32m   4355\u001b[0m     \u001b[1;32mwith\u001b[0m \u001b[0mtf_ops\u001b[0m\u001b[1;33m.\u001b[0m\u001b[0minit_scope\u001b[0m\u001b[1;33m(\u001b[0m\u001b[1;33m)\u001b[0m\u001b[1;33m:\u001b[0m\u001b[1;33m\u001b[0m\u001b[1;33m\u001b[0m\u001b[0m\n\u001b[0;32m   4356\u001b[0m         return tf_keras_backend.random_uniform(\n\u001b[1;32m-> 4357\u001b[1;33m             shape, minval=minval, maxval=maxval, dtype=dtype, seed=seed)\n\u001b[0m\u001b[0;32m   4358\u001b[0m \u001b[1;33m\u001b[0m\u001b[0m\n\u001b[0;32m   4359\u001b[0m \u001b[1;33m\u001b[0m\u001b[0m\n",
      "\u001b[1;32m~\\Anaconda3\\lib\\site-packages\\tensorflow_core\\python\\keras\\backend.py\u001b[0m in \u001b[0;36mrandom_uniform\u001b[1;34m(shape, minval, maxval, dtype, seed)\u001b[0m\n\u001b[0;32m   5596\u001b[0m     \u001b[0mseed\u001b[0m \u001b[1;33m=\u001b[0m \u001b[0mnp\u001b[0m\u001b[1;33m.\u001b[0m\u001b[0mrandom\u001b[0m\u001b[1;33m.\u001b[0m\u001b[0mrandint\u001b[0m\u001b[1;33m(\u001b[0m\u001b[1;36m10e6\u001b[0m\u001b[1;33m)\u001b[0m\u001b[1;33m\u001b[0m\u001b[1;33m\u001b[0m\u001b[0m\n\u001b[0;32m   5597\u001b[0m   return random_ops.random_uniform(\n\u001b[1;32m-> 5598\u001b[1;33m       shape, minval=minval, maxval=maxval, dtype=dtype, seed=seed)\n\u001b[0m\u001b[0;32m   5599\u001b[0m \u001b[1;33m\u001b[0m\u001b[0m\n\u001b[0;32m   5600\u001b[0m \u001b[1;33m\u001b[0m\u001b[0m\n",
      "\u001b[1;32m~\\Anaconda3\\lib\\site-packages\\tensorflow_core\\python\\ops\\random_ops.py\u001b[0m in \u001b[0;36mrandom_uniform\u001b[1;34m(shape, minval, maxval, dtype, seed, name)\u001b[0m\n\u001b[0;32m    235\u001b[0m     \u001b[0mmaxval\u001b[0m \u001b[1;33m=\u001b[0m \u001b[1;36m1\u001b[0m\u001b[1;33m\u001b[0m\u001b[1;33m\u001b[0m\u001b[0m\n\u001b[0;32m    236\u001b[0m   \u001b[1;32mwith\u001b[0m \u001b[0mops\u001b[0m\u001b[1;33m.\u001b[0m\u001b[0mname_scope\u001b[0m\u001b[1;33m(\u001b[0m\u001b[0mname\u001b[0m\u001b[1;33m,\u001b[0m \u001b[1;34m\"random_uniform\"\u001b[0m\u001b[1;33m,\u001b[0m \u001b[1;33m[\u001b[0m\u001b[0mshape\u001b[0m\u001b[1;33m,\u001b[0m \u001b[0mminval\u001b[0m\u001b[1;33m,\u001b[0m \u001b[0mmaxval\u001b[0m\u001b[1;33m]\u001b[0m\u001b[1;33m)\u001b[0m \u001b[1;32mas\u001b[0m \u001b[0mname\u001b[0m\u001b[1;33m:\u001b[0m\u001b[1;33m\u001b[0m\u001b[1;33m\u001b[0m\u001b[0m\n\u001b[1;32m--> 237\u001b[1;33m     \u001b[0mshape\u001b[0m \u001b[1;33m=\u001b[0m \u001b[0mtensor_util\u001b[0m\u001b[1;33m.\u001b[0m\u001b[0mshape_tensor\u001b[0m\u001b[1;33m(\u001b[0m\u001b[0mshape\u001b[0m\u001b[1;33m)\u001b[0m\u001b[1;33m\u001b[0m\u001b[1;33m\u001b[0m\u001b[0m\n\u001b[0m\u001b[0;32m    238\u001b[0m     \u001b[0mminval\u001b[0m \u001b[1;33m=\u001b[0m \u001b[0mops\u001b[0m\u001b[1;33m.\u001b[0m\u001b[0mconvert_to_tensor\u001b[0m\u001b[1;33m(\u001b[0m\u001b[0mminval\u001b[0m\u001b[1;33m,\u001b[0m \u001b[0mdtype\u001b[0m\u001b[1;33m=\u001b[0m\u001b[0mdtype\u001b[0m\u001b[1;33m,\u001b[0m \u001b[0mname\u001b[0m\u001b[1;33m=\u001b[0m\u001b[1;34m\"min\"\u001b[0m\u001b[1;33m)\u001b[0m\u001b[1;33m\u001b[0m\u001b[1;33m\u001b[0m\u001b[0m\n\u001b[0;32m    239\u001b[0m     \u001b[0mmaxval\u001b[0m \u001b[1;33m=\u001b[0m \u001b[0mops\u001b[0m\u001b[1;33m.\u001b[0m\u001b[0mconvert_to_tensor\u001b[0m\u001b[1;33m(\u001b[0m\u001b[0mmaxval\u001b[0m\u001b[1;33m,\u001b[0m \u001b[0mdtype\u001b[0m\u001b[1;33m=\u001b[0m\u001b[0mdtype\u001b[0m\u001b[1;33m,\u001b[0m \u001b[0mname\u001b[0m\u001b[1;33m=\u001b[0m\u001b[1;34m\"max\"\u001b[0m\u001b[1;33m)\u001b[0m\u001b[1;33m\u001b[0m\u001b[1;33m\u001b[0m\u001b[0m\n",
      "\u001b[1;32m~\\Anaconda3\\lib\\site-packages\\tensorflow_core\\python\\framework\\tensor_util.py\u001b[0m in \u001b[0;36mshape_tensor\u001b[1;34m(shape)\u001b[0m\n\u001b[0;32m    962\u001b[0m       \u001b[1;31m# not convertible to Tensors becasue of mixed content.\u001b[0m\u001b[1;33m\u001b[0m\u001b[1;33m\u001b[0m\u001b[1;33m\u001b[0m\u001b[0m\n\u001b[0;32m    963\u001b[0m       \u001b[0mshape\u001b[0m \u001b[1;33m=\u001b[0m \u001b[0mtuple\u001b[0m\u001b[1;33m(\u001b[0m\u001b[0mmap\u001b[0m\u001b[1;33m(\u001b[0m\u001b[0mtensor_shape\u001b[0m\u001b[1;33m.\u001b[0m\u001b[0mdimension_value\u001b[0m\u001b[1;33m,\u001b[0m \u001b[0mshape\u001b[0m\u001b[1;33m)\u001b[0m\u001b[1;33m)\u001b[0m\u001b[1;33m\u001b[0m\u001b[1;33m\u001b[0m\u001b[0m\n\u001b[1;32m--> 964\u001b[1;33m   \u001b[1;32mreturn\u001b[0m \u001b[0mops\u001b[0m\u001b[1;33m.\u001b[0m\u001b[0mconvert_to_tensor\u001b[0m\u001b[1;33m(\u001b[0m\u001b[0mshape\u001b[0m\u001b[1;33m,\u001b[0m \u001b[0mdtype\u001b[0m\u001b[1;33m=\u001b[0m\u001b[0mdtype\u001b[0m\u001b[1;33m,\u001b[0m \u001b[0mname\u001b[0m\u001b[1;33m=\u001b[0m\u001b[1;34m\"shape\"\u001b[0m\u001b[1;33m)\u001b[0m\u001b[1;33m\u001b[0m\u001b[1;33m\u001b[0m\u001b[0m\n\u001b[0m\u001b[0;32m    965\u001b[0m \u001b[1;33m\u001b[0m\u001b[0m\n\u001b[0;32m    966\u001b[0m \u001b[1;33m\u001b[0m\u001b[0m\n",
      "\u001b[1;32m~\\Anaconda3\\lib\\site-packages\\tensorflow_core\\python\\framework\\ops.py\u001b[0m in \u001b[0;36mconvert_to_tensor\u001b[1;34m(value, dtype, name, preferred_dtype, dtype_hint)\u001b[0m\n\u001b[0;32m   1182\u001b[0m   preferred_dtype = deprecation.deprecated_argument_lookup(\n\u001b[0;32m   1183\u001b[0m       \"dtype_hint\", dtype_hint, \"preferred_dtype\", preferred_dtype)\n\u001b[1;32m-> 1184\u001b[1;33m   \u001b[1;32mreturn\u001b[0m \u001b[0mconvert_to_tensor_v2\u001b[0m\u001b[1;33m(\u001b[0m\u001b[0mvalue\u001b[0m\u001b[1;33m,\u001b[0m \u001b[0mdtype\u001b[0m\u001b[1;33m,\u001b[0m \u001b[0mpreferred_dtype\u001b[0m\u001b[1;33m,\u001b[0m \u001b[0mname\u001b[0m\u001b[1;33m)\u001b[0m\u001b[1;33m\u001b[0m\u001b[1;33m\u001b[0m\u001b[0m\n\u001b[0m\u001b[0;32m   1185\u001b[0m \u001b[1;33m\u001b[0m\u001b[0m\n\u001b[0;32m   1186\u001b[0m \u001b[1;33m\u001b[0m\u001b[0m\n",
      "\u001b[1;32m~\\Anaconda3\\lib\\site-packages\\tensorflow_core\\python\\framework\\ops.py\u001b[0m in \u001b[0;36mconvert_to_tensor_v2\u001b[1;34m(value, dtype, dtype_hint, name)\u001b[0m\n\u001b[0;32m   1240\u001b[0m       \u001b[0mname\u001b[0m\u001b[1;33m=\u001b[0m\u001b[0mname\u001b[0m\u001b[1;33m,\u001b[0m\u001b[1;33m\u001b[0m\u001b[1;33m\u001b[0m\u001b[0m\n\u001b[0;32m   1241\u001b[0m       \u001b[0mpreferred_dtype\u001b[0m\u001b[1;33m=\u001b[0m\u001b[0mdtype_hint\u001b[0m\u001b[1;33m,\u001b[0m\u001b[1;33m\u001b[0m\u001b[1;33m\u001b[0m\u001b[0m\n\u001b[1;32m-> 1242\u001b[1;33m       as_ref=False)\n\u001b[0m\u001b[0;32m   1243\u001b[0m \u001b[1;33m\u001b[0m\u001b[0m\n\u001b[0;32m   1244\u001b[0m \u001b[1;33m\u001b[0m\u001b[0m\n",
      "\u001b[1;32m~\\Anaconda3\\lib\\site-packages\\tensorflow_core\\python\\framework\\ops.py\u001b[0m in \u001b[0;36minternal_convert_to_tensor\u001b[1;34m(value, dtype, name, as_ref, preferred_dtype, ctx, accept_composite_tensors)\u001b[0m\n\u001b[0;32m   1294\u001b[0m \u001b[1;33m\u001b[0m\u001b[0m\n\u001b[0;32m   1295\u001b[0m     \u001b[1;32mif\u001b[0m \u001b[0mret\u001b[0m \u001b[1;32mis\u001b[0m \u001b[1;32mNone\u001b[0m\u001b[1;33m:\u001b[0m\u001b[1;33m\u001b[0m\u001b[1;33m\u001b[0m\u001b[0m\n\u001b[1;32m-> 1296\u001b[1;33m       \u001b[0mret\u001b[0m \u001b[1;33m=\u001b[0m \u001b[0mconversion_func\u001b[0m\u001b[1;33m(\u001b[0m\u001b[0mvalue\u001b[0m\u001b[1;33m,\u001b[0m \u001b[0mdtype\u001b[0m\u001b[1;33m=\u001b[0m\u001b[0mdtype\u001b[0m\u001b[1;33m,\u001b[0m \u001b[0mname\u001b[0m\u001b[1;33m=\u001b[0m\u001b[0mname\u001b[0m\u001b[1;33m,\u001b[0m \u001b[0mas_ref\u001b[0m\u001b[1;33m=\u001b[0m\u001b[0mas_ref\u001b[0m\u001b[1;33m)\u001b[0m\u001b[1;33m\u001b[0m\u001b[1;33m\u001b[0m\u001b[0m\n\u001b[0m\u001b[0;32m   1297\u001b[0m \u001b[1;33m\u001b[0m\u001b[0m\n\u001b[0;32m   1298\u001b[0m     \u001b[1;32mif\u001b[0m \u001b[0mret\u001b[0m \u001b[1;32mis\u001b[0m \u001b[0mNotImplemented\u001b[0m\u001b[1;33m:\u001b[0m\u001b[1;33m\u001b[0m\u001b[1;33m\u001b[0m\u001b[0m\n",
      "\u001b[1;32m~\\Anaconda3\\lib\\site-packages\\tensorflow_core\\python\\framework\\constant_op.py\u001b[0m in \u001b[0;36m_constant_tensor_conversion_function\u001b[1;34m(v, dtype, name, as_ref)\u001b[0m\n\u001b[0;32m    284\u001b[0m                                          as_ref=False):\n\u001b[0;32m    285\u001b[0m   \u001b[0m_\u001b[0m \u001b[1;33m=\u001b[0m \u001b[0mas_ref\u001b[0m\u001b[1;33m\u001b[0m\u001b[1;33m\u001b[0m\u001b[0m\n\u001b[1;32m--> 286\u001b[1;33m   \u001b[1;32mreturn\u001b[0m \u001b[0mconstant\u001b[0m\u001b[1;33m(\u001b[0m\u001b[0mv\u001b[0m\u001b[1;33m,\u001b[0m \u001b[0mdtype\u001b[0m\u001b[1;33m=\u001b[0m\u001b[0mdtype\u001b[0m\u001b[1;33m,\u001b[0m \u001b[0mname\u001b[0m\u001b[1;33m=\u001b[0m\u001b[0mname\u001b[0m\u001b[1;33m)\u001b[0m\u001b[1;33m\u001b[0m\u001b[1;33m\u001b[0m\u001b[0m\n\u001b[0m\u001b[0;32m    287\u001b[0m \u001b[1;33m\u001b[0m\u001b[0m\n\u001b[0;32m    288\u001b[0m \u001b[1;33m\u001b[0m\u001b[0m\n",
      "\u001b[1;32m~\\Anaconda3\\lib\\site-packages\\tensorflow_core\\python\\framework\\constant_op.py\u001b[0m in \u001b[0;36mconstant\u001b[1;34m(value, dtype, shape, name)\u001b[0m\n\u001b[0;32m    225\u001b[0m   \"\"\"\n\u001b[0;32m    226\u001b[0m   return _constant_impl(value, dtype, shape, name, verify_shape=False,\n\u001b[1;32m--> 227\u001b[1;33m                         allow_broadcast=True)\n\u001b[0m\u001b[0;32m    228\u001b[0m \u001b[1;33m\u001b[0m\u001b[0m\n\u001b[0;32m    229\u001b[0m \u001b[1;33m\u001b[0m\u001b[0m\n",
      "\u001b[1;32m~\\Anaconda3\\lib\\site-packages\\tensorflow_core\\python\\framework\\constant_op.py\u001b[0m in \u001b[0;36m_constant_impl\u001b[1;34m(value, dtype, shape, name, verify_shape, allow_broadcast)\u001b[0m\n\u001b[0;32m    233\u001b[0m   \u001b[0mctx\u001b[0m \u001b[1;33m=\u001b[0m \u001b[0mcontext\u001b[0m\u001b[1;33m.\u001b[0m\u001b[0mcontext\u001b[0m\u001b[1;33m(\u001b[0m\u001b[1;33m)\u001b[0m\u001b[1;33m\u001b[0m\u001b[1;33m\u001b[0m\u001b[0m\n\u001b[0;32m    234\u001b[0m   \u001b[1;32mif\u001b[0m \u001b[0mctx\u001b[0m\u001b[1;33m.\u001b[0m\u001b[0mexecuting_eagerly\u001b[0m\u001b[1;33m(\u001b[0m\u001b[1;33m)\u001b[0m\u001b[1;33m:\u001b[0m\u001b[1;33m\u001b[0m\u001b[1;33m\u001b[0m\u001b[0m\n\u001b[1;32m--> 235\u001b[1;33m     \u001b[0mt\u001b[0m \u001b[1;33m=\u001b[0m \u001b[0mconvert_to_eager_tensor\u001b[0m\u001b[1;33m(\u001b[0m\u001b[0mvalue\u001b[0m\u001b[1;33m,\u001b[0m \u001b[0mctx\u001b[0m\u001b[1;33m,\u001b[0m \u001b[0mdtype\u001b[0m\u001b[1;33m)\u001b[0m\u001b[1;33m\u001b[0m\u001b[1;33m\u001b[0m\u001b[0m\n\u001b[0m\u001b[0;32m    236\u001b[0m     \u001b[1;32mif\u001b[0m \u001b[0mshape\u001b[0m \u001b[1;32mis\u001b[0m \u001b[1;32mNone\u001b[0m\u001b[1;33m:\u001b[0m\u001b[1;33m\u001b[0m\u001b[1;33m\u001b[0m\u001b[0m\n\u001b[0;32m    237\u001b[0m       \u001b[1;32mreturn\u001b[0m \u001b[0mt\u001b[0m\u001b[1;33m\u001b[0m\u001b[1;33m\u001b[0m\u001b[0m\n",
      "\u001b[1;32m~\\Anaconda3\\lib\\site-packages\\tensorflow_core\\python\\framework\\constant_op.py\u001b[0m in \u001b[0;36mconvert_to_eager_tensor\u001b[1;34m(value, ctx, dtype)\u001b[0m\n\u001b[0;32m     93\u001b[0m     \u001b[1;32mexcept\u001b[0m \u001b[0mAttributeError\u001b[0m\u001b[1;33m:\u001b[0m\u001b[1;33m\u001b[0m\u001b[1;33m\u001b[0m\u001b[0m\n\u001b[0;32m     94\u001b[0m       \u001b[0mdtype\u001b[0m \u001b[1;33m=\u001b[0m \u001b[0mdtypes\u001b[0m\u001b[1;33m.\u001b[0m\u001b[0mas_dtype\u001b[0m\u001b[1;33m(\u001b[0m\u001b[0mdtype\u001b[0m\u001b[1;33m)\u001b[0m\u001b[1;33m.\u001b[0m\u001b[0mas_datatype_enum\u001b[0m\u001b[1;33m\u001b[0m\u001b[1;33m\u001b[0m\u001b[0m\n\u001b[1;32m---> 95\u001b[1;33m   \u001b[0mctx\u001b[0m\u001b[1;33m.\u001b[0m\u001b[0mensure_initialized\u001b[0m\u001b[1;33m(\u001b[0m\u001b[1;33m)\u001b[0m\u001b[1;33m\u001b[0m\u001b[1;33m\u001b[0m\u001b[0m\n\u001b[0m\u001b[0;32m     96\u001b[0m   \u001b[1;32mreturn\u001b[0m \u001b[0mops\u001b[0m\u001b[1;33m.\u001b[0m\u001b[0mEagerTensor\u001b[0m\u001b[1;33m(\u001b[0m\u001b[0mvalue\u001b[0m\u001b[1;33m,\u001b[0m \u001b[0mctx\u001b[0m\u001b[1;33m.\u001b[0m\u001b[0mdevice_name\u001b[0m\u001b[1;33m,\u001b[0m \u001b[0mdtype\u001b[0m\u001b[1;33m)\u001b[0m\u001b[1;33m\u001b[0m\u001b[1;33m\u001b[0m\u001b[0m\n\u001b[0;32m     97\u001b[0m \u001b[1;33m\u001b[0m\u001b[0m\n",
      "\u001b[1;32m~\\Anaconda3\\lib\\site-packages\\tensorflow_core\\python\\eager\\context.py\u001b[0m in \u001b[0;36mensure_initialized\u001b[1;34m(self)\u001b[0m\n\u001b[0;32m    490\u001b[0m         \u001b[1;32mif\u001b[0m \u001b[0mself\u001b[0m\u001b[1;33m.\u001b[0m\u001b[0m_default_is_async\u001b[0m \u001b[1;33m==\u001b[0m \u001b[0mASYNC\u001b[0m\u001b[1;33m:\u001b[0m\u001b[1;33m\u001b[0m\u001b[1;33m\u001b[0m\u001b[0m\n\u001b[0;32m    491\u001b[0m           \u001b[0mpywrap_tensorflow\u001b[0m\u001b[1;33m.\u001b[0m\u001b[0mTFE_ContextOptionsSetAsync\u001b[0m\u001b[1;33m(\u001b[0m\u001b[0mopts\u001b[0m\u001b[1;33m,\u001b[0m \u001b[1;32mTrue\u001b[0m\u001b[1;33m)\u001b[0m\u001b[1;33m\u001b[0m\u001b[1;33m\u001b[0m\u001b[0m\n\u001b[1;32m--> 492\u001b[1;33m         \u001b[0mself\u001b[0m\u001b[1;33m.\u001b[0m\u001b[0m_context_handle\u001b[0m \u001b[1;33m=\u001b[0m \u001b[0mpywrap_tensorflow\u001b[0m\u001b[1;33m.\u001b[0m\u001b[0mTFE_NewContext\u001b[0m\u001b[1;33m(\u001b[0m\u001b[0mopts\u001b[0m\u001b[1;33m)\u001b[0m\u001b[1;33m\u001b[0m\u001b[1;33m\u001b[0m\u001b[0m\n\u001b[0m\u001b[0;32m    493\u001b[0m       \u001b[1;32mfinally\u001b[0m\u001b[1;33m:\u001b[0m\u001b[1;33m\u001b[0m\u001b[1;33m\u001b[0m\u001b[0m\n\u001b[0;32m    494\u001b[0m         \u001b[0mpywrap_tensorflow\u001b[0m\u001b[1;33m.\u001b[0m\u001b[0mTFE_DeleteContextOptions\u001b[0m\u001b[1;33m(\u001b[0m\u001b[0mopts\u001b[0m\u001b[1;33m)\u001b[0m\u001b[1;33m\u001b[0m\u001b[1;33m\u001b[0m\u001b[0m\n",
      "\u001b[1;31mInternalError\u001b[0m: cudaGetDevice() failed. Status: cudaGetErrorString symbol not found."
     ]
    }
   ],
   "source": [
    "x_tr, x_vl, y_tr, y_vl = train_test_split(x_train, y_train_x, test_size=0.25, random_state=42)\n",
    "model = train_model(x_tr, y_tr, x_vl, y_vl)"
   ]
  },
  {
   "cell_type": "markdown",
   "metadata": {},
   "source": [
    "# Prediction"
   ]
  },
  {
   "cell_type": "code",
   "execution_count": 147,
   "metadata": {},
   "outputs": [
    {
     "data": {
      "text/plain": [
       "0.013446799860368086"
      ]
     },
     "execution_count": 147,
     "metadata": {},
     "output_type": "execute_result"
    }
   ],
   "source": [
    "y_pred = model.predict(x_test)\n",
    "results = np.cumsum(y_pred,axis=1)\n",
    "squared_loss(y_train_y,results)"
   ]
  },
  {
   "cell_type": "markdown",
   "metadata": {},
   "source": [
    "# Logistic Regression"
   ]
  },
  {
   "cell_type": "code",
   "execution_count": 47,
   "metadata": {},
   "outputs": [],
   "source": [
    "from sklearn.linear_model import LogisticRegression\n"
   ]
  },
  {
   "cell_type": "code",
   "execution_count": 48,
   "metadata": {},
   "outputs": [
    {
     "name": "stderr",
     "output_type": "stream",
     "text": [
      "C:\\Users\\piyus\\Anaconda3\\lib\\site-packages\\sklearn\\linear_model\\logistic.py:947: ConvergenceWarning: lbfgs failed to converge. Increase the number of iterations.\n",
      "  \"of iterations.\", ConvergenceWarning)\n"
     ]
    },
    {
     "data": {
      "text/plain": [
       "LogisticRegression(C=1.0, class_weight=None, dual=False, fit_intercept=True,\n",
       "                   intercept_scaling=1, l1_ratio=None, max_iter=100,\n",
       "                   multi_class='multinomial', n_jobs=None, penalty='l2',\n",
       "                   random_state=None, solver='lbfgs', tol=0.0001, verbose=0,\n",
       "                   warm_start=False)"
      ]
     },
     "execution_count": 48,
     "metadata": {},
     "output_type": "execute_result"
    }
   ],
   "source": [
    "LR_model = LogisticRegression(solver = 'lbfgs',multi_class='multinomial')\n",
    "LR_model.fit(x_train,y_train)\n"
   ]
  },
  {
   "cell_type": "code",
   "execution_count": 49,
   "metadata": {},
   "outputs": [],
   "source": [
    "y_pred = LR_model.predict(x_test)\n",
    "n = y_pred\n",
    "o = np.zeros((n.size, 199))\n",
    "o[np.arange(n.size),n] = 1\n",
    "y_train_pred = np.cumsum(o,axis =1)"
   ]
  },
  {
   "cell_type": "code",
   "execution_count": 50,
   "metadata": {},
   "outputs": [
    {
     "data": {
      "text/plain": [
       "0.017935240083982753"
      ]
     },
     "execution_count": 50,
     "metadata": {},
     "output_type": "execute_result"
    }
   ],
   "source": [
    "squared_loss(y_train_y,y_train_pred)"
   ]
  },
  {
   "cell_type": "markdown",
   "metadata": {},
   "source": [
    "# Ensemble"
   ]
  },
  {
   "cell_type": "code",
   "execution_count": 51,
   "metadata": {},
   "outputs": [
    {
     "ename": "NameError",
     "evalue": "name 'model' is not defined",
     "output_type": "error",
     "traceback": [
      "\u001b[1;31m---------------------------------------------------------------------------\u001b[0m",
      "\u001b[1;31mNameError\u001b[0m                                 Traceback (most recent call last)",
      "\u001b[1;32m<ipython-input-51-0af8c3db15f5>\u001b[0m in \u001b[0;36m<module>\u001b[1;34m\u001b[0m\n\u001b[0;32m      4\u001b[0m \u001b[1;33m\u001b[0m\u001b[0m\n\u001b[0;32m      5\u001b[0m \u001b[1;31m#NN results\u001b[0m\u001b[1;33m\u001b[0m\u001b[1;33m\u001b[0m\u001b[1;33m\u001b[0m\u001b[0m\n\u001b[1;32m----> 6\u001b[1;33m \u001b[0my_pred\u001b[0m \u001b[1;33m=\u001b[0m \u001b[0mmodel\u001b[0m\u001b[1;33m.\u001b[0m\u001b[0mpredict\u001b[0m\u001b[1;33m(\u001b[0m\u001b[0mx_test\u001b[0m\u001b[1;33m)\u001b[0m\u001b[1;33m\u001b[0m\u001b[1;33m\u001b[0m\u001b[0m\n\u001b[0m\u001b[0;32m      7\u001b[0m \u001b[0my_pred_nn\u001b[0m \u001b[1;33m=\u001b[0m \u001b[0mnp\u001b[0m\u001b[1;33m.\u001b[0m\u001b[0mcumsum\u001b[0m\u001b[1;33m(\u001b[0m\u001b[0my_pred\u001b[0m\u001b[1;33m,\u001b[0m\u001b[0maxis\u001b[0m\u001b[1;33m=\u001b[0m\u001b[1;36m1\u001b[0m\u001b[1;33m)\u001b[0m\u001b[1;33m\u001b[0m\u001b[1;33m\u001b[0m\u001b[0m\n",
      "\u001b[1;31mNameError\u001b[0m: name 'model' is not defined"
     ]
    }
   ],
   "source": [
    "#LGBM results\n",
    "y_pred=clf.predict(x_test)\n",
    "y_pred_lgbm = np.cumsum(y_pred, axis=1)\n",
    "\n",
    "#NN results\n",
    "y_pred = model.predict(x_test)\n",
    "y_pred_nn = np.cumsum(y_pred,axis=1)"
   ]
  },
  {
   "cell_type": "code",
   "execution_count": 142,
   "metadata": {},
   "outputs": [
    {
     "data": {
      "text/plain": [
       "0.01344717167457061"
      ]
     },
     "execution_count": 142,
     "metadata": {},
     "output_type": "execute_result"
    }
   ],
   "source": [
    "y_ensemble = (y_train_pred+y_pred_lgbm+y_pred_nn)/3\n",
    "squared_loss(y_train_y,y_ensemble)"
   ]
  }
 ],
 "metadata": {
  "kernelspec": {
   "display_name": "Python 3",
   "language": "python",
   "name": "python3"
  },
  "language_info": {
   "codemirror_mode": {
    "name": "ipython",
    "version": 3
   },
   "file_extension": ".py",
   "mimetype": "text/x-python",
   "name": "python",
   "nbconvert_exporter": "python",
   "pygments_lexer": "ipython3",
   "version": "3.7.3"
  }
 },
 "nbformat": 4,
 "nbformat_minor": 2
}
